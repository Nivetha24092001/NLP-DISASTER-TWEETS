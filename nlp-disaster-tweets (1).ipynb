{
 "cells": [
  {
   "cell_type": "code",
   "execution_count": 1,
   "id": "a1a48d2e",
   "metadata": {
    "_cell_guid": "b1076dfc-b9ad-4769-8c92-a6c4dae69d19",
    "_uuid": "8f2839f25d086af736a60e9eeb907d3b93b6e0e5",
    "execution": {
     "iopub.execute_input": "2022-04-28T03:43:21.189324Z",
     "iopub.status.busy": "2022-04-28T03:43:21.188976Z",
     "iopub.status.idle": "2022-04-28T03:43:21.202589Z",
     "shell.execute_reply": "2022-04-28T03:43:21.201722Z"
    },
    "papermill": {
     "duration": 0.048897,
     "end_time": "2022-04-28T03:43:21.204820",
     "exception": false,
     "start_time": "2022-04-28T03:43:21.155923",
     "status": "completed"
    },
    "tags": []
   },
   "outputs": [
    {
     "name": "stdout",
     "output_type": "stream",
     "text": [
      "/kaggle/input/nlp-getting-started/sample_submission.csv\n",
      "/kaggle/input/nlp-getting-started/train.csv\n",
      "/kaggle/input/nlp-getting-started/test.csv\n"
     ]
    }
   ],
   "source": [
    "# This Python 3 environment comes with many helpful analytics libraries installed\n",
    "# It is defined by the kaggle/python Docker image: https://github.com/kaggle/docker-python\n",
    "# For example, here's several helpful packages to load\n",
    "\n",
    "import numpy as np # linear algebra\n",
    "import pandas as pd # data processing, CSV file I/O (e.g. pd.read_csv)\n",
    "\n",
    "# Input data files are available in the read-only \"../input/\" directory\n",
    "# For example, running this (by clicking run or pressing Shift+Enter) will list all files under the input directory\n",
    "\n",
    "import os\n",
    "for dirname, _, filenames in os.walk('/kaggle/input'):\n",
    "    for filename in filenames:\n",
    "        print(os.path.join(dirname, filename))\n",
    "\n",
    "# You can write up to 20GB to the current directory (/kaggle/working/) that gets preserved as output when you create a version using \"Save & Run All\" \n",
    "# You can also write temporary files to /kaggle/temp/, but they won't be saved outside of the current session"
   ]
  },
  {
   "cell_type": "code",
   "execution_count": 2,
   "id": "bcf16ec5",
   "metadata": {
    "execution": {
     "iopub.execute_input": "2022-04-28T03:43:21.269741Z",
     "iopub.status.busy": "2022-04-28T03:43:21.269476Z",
     "iopub.status.idle": "2022-04-28T03:43:21.273218Z",
     "shell.execute_reply": "2022-04-28T03:43:21.272418Z"
    },
    "papermill": {
     "duration": 0.037551,
     "end_time": "2022-04-28T03:43:21.275082",
     "exception": false,
     "start_time": "2022-04-28T03:43:21.237531",
     "status": "completed"
    },
    "tags": []
   },
   "outputs": [],
   "source": [
    "import pandas as pd\n",
    "import warnings\n",
    "warnings.filterwarnings(\"ignore\")"
   ]
  },
  {
   "cell_type": "code",
   "execution_count": 3,
   "id": "0aca62db",
   "metadata": {
    "execution": {
     "iopub.execute_input": "2022-04-28T03:43:21.339132Z",
     "iopub.status.busy": "2022-04-28T03:43:21.338219Z",
     "iopub.status.idle": "2022-04-28T03:43:21.388973Z",
     "shell.execute_reply": "2022-04-28T03:43:21.388357Z"
    },
    "papermill": {
     "duration": 0.085408,
     "end_time": "2022-04-28T03:43:21.391129",
     "exception": false,
     "start_time": "2022-04-28T03:43:21.305721",
     "status": "completed"
    },
    "tags": []
   },
   "outputs": [],
   "source": [
    "df = pd.read_csv(\"/kaggle/input/nlp-getting-started/train.csv\")"
   ]
  },
  {
   "cell_type": "code",
   "execution_count": 4,
   "id": "449ff5dd",
   "metadata": {
    "execution": {
     "iopub.execute_input": "2022-04-28T03:43:21.454254Z",
     "iopub.status.busy": "2022-04-28T03:43:21.453533Z",
     "iopub.status.idle": "2022-04-28T03:43:21.474486Z",
     "shell.execute_reply": "2022-04-28T03:43:21.473844Z"
    },
    "papermill": {
     "duration": 0.05447,
     "end_time": "2022-04-28T03:43:21.476414",
     "exception": false,
     "start_time": "2022-04-28T03:43:21.421944",
     "status": "completed"
    },
    "tags": []
   },
   "outputs": [
    {
     "data": {
      "text/html": [
       "<div>\n",
       "<style scoped>\n",
       "    .dataframe tbody tr th:only-of-type {\n",
       "        vertical-align: middle;\n",
       "    }\n",
       "\n",
       "    .dataframe tbody tr th {\n",
       "        vertical-align: top;\n",
       "    }\n",
       "\n",
       "    .dataframe thead th {\n",
       "        text-align: right;\n",
       "    }\n",
       "</style>\n",
       "<table border=\"1\" class=\"dataframe\">\n",
       "  <thead>\n",
       "    <tr style=\"text-align: right;\">\n",
       "      <th></th>\n",
       "      <th>id</th>\n",
       "      <th>keyword</th>\n",
       "      <th>location</th>\n",
       "      <th>text</th>\n",
       "      <th>target</th>\n",
       "    </tr>\n",
       "  </thead>\n",
       "  <tbody>\n",
       "    <tr>\n",
       "      <th>0</th>\n",
       "      <td>1</td>\n",
       "      <td>NaN</td>\n",
       "      <td>NaN</td>\n",
       "      <td>Our Deeds are the Reason of this #earthquake M...</td>\n",
       "      <td>1</td>\n",
       "    </tr>\n",
       "    <tr>\n",
       "      <th>1</th>\n",
       "      <td>4</td>\n",
       "      <td>NaN</td>\n",
       "      <td>NaN</td>\n",
       "      <td>Forest fire near La Ronge Sask. Canada</td>\n",
       "      <td>1</td>\n",
       "    </tr>\n",
       "    <tr>\n",
       "      <th>2</th>\n",
       "      <td>5</td>\n",
       "      <td>NaN</td>\n",
       "      <td>NaN</td>\n",
       "      <td>All residents asked to 'shelter in place' are ...</td>\n",
       "      <td>1</td>\n",
       "    </tr>\n",
       "    <tr>\n",
       "      <th>3</th>\n",
       "      <td>6</td>\n",
       "      <td>NaN</td>\n",
       "      <td>NaN</td>\n",
       "      <td>13,000 people receive #wildfires evacuation or...</td>\n",
       "      <td>1</td>\n",
       "    </tr>\n",
       "    <tr>\n",
       "      <th>4</th>\n",
       "      <td>7</td>\n",
       "      <td>NaN</td>\n",
       "      <td>NaN</td>\n",
       "      <td>Just got sent this photo from Ruby #Alaska as ...</td>\n",
       "      <td>1</td>\n",
       "    </tr>\n",
       "    <tr>\n",
       "      <th>5</th>\n",
       "      <td>8</td>\n",
       "      <td>NaN</td>\n",
       "      <td>NaN</td>\n",
       "      <td>#RockyFire Update =&gt; California Hwy. 20 closed...</td>\n",
       "      <td>1</td>\n",
       "    </tr>\n",
       "    <tr>\n",
       "      <th>6</th>\n",
       "      <td>10</td>\n",
       "      <td>NaN</td>\n",
       "      <td>NaN</td>\n",
       "      <td>#flood #disaster Heavy rain causes flash flood...</td>\n",
       "      <td>1</td>\n",
       "    </tr>\n",
       "    <tr>\n",
       "      <th>7</th>\n",
       "      <td>13</td>\n",
       "      <td>NaN</td>\n",
       "      <td>NaN</td>\n",
       "      <td>I'm on top of the hill and I can see a fire in...</td>\n",
       "      <td>1</td>\n",
       "    </tr>\n",
       "    <tr>\n",
       "      <th>8</th>\n",
       "      <td>14</td>\n",
       "      <td>NaN</td>\n",
       "      <td>NaN</td>\n",
       "      <td>There's an emergency evacuation happening now ...</td>\n",
       "      <td>1</td>\n",
       "    </tr>\n",
       "    <tr>\n",
       "      <th>9</th>\n",
       "      <td>15</td>\n",
       "      <td>NaN</td>\n",
       "      <td>NaN</td>\n",
       "      <td>I'm afraid that the tornado is coming to our a...</td>\n",
       "      <td>1</td>\n",
       "    </tr>\n",
       "    <tr>\n",
       "      <th>10</th>\n",
       "      <td>16</td>\n",
       "      <td>NaN</td>\n",
       "      <td>NaN</td>\n",
       "      <td>Three people died from the heat wave so far</td>\n",
       "      <td>1</td>\n",
       "    </tr>\n",
       "    <tr>\n",
       "      <th>11</th>\n",
       "      <td>17</td>\n",
       "      <td>NaN</td>\n",
       "      <td>NaN</td>\n",
       "      <td>Haha South Tampa is getting flooded hah- WAIT ...</td>\n",
       "      <td>1</td>\n",
       "    </tr>\n",
       "    <tr>\n",
       "      <th>12</th>\n",
       "      <td>18</td>\n",
       "      <td>NaN</td>\n",
       "      <td>NaN</td>\n",
       "      <td>#raining #flooding #Florida #TampaBay #Tampa 1...</td>\n",
       "      <td>1</td>\n",
       "    </tr>\n",
       "    <tr>\n",
       "      <th>13</th>\n",
       "      <td>19</td>\n",
       "      <td>NaN</td>\n",
       "      <td>NaN</td>\n",
       "      <td>#Flood in Bago Myanmar #We arrived Bago</td>\n",
       "      <td>1</td>\n",
       "    </tr>\n",
       "    <tr>\n",
       "      <th>14</th>\n",
       "      <td>20</td>\n",
       "      <td>NaN</td>\n",
       "      <td>NaN</td>\n",
       "      <td>Damage to school bus on 80 in multi car crash ...</td>\n",
       "      <td>1</td>\n",
       "    </tr>\n",
       "    <tr>\n",
       "      <th>15</th>\n",
       "      <td>23</td>\n",
       "      <td>NaN</td>\n",
       "      <td>NaN</td>\n",
       "      <td>What's up man?</td>\n",
       "      <td>0</td>\n",
       "    </tr>\n",
       "    <tr>\n",
       "      <th>16</th>\n",
       "      <td>24</td>\n",
       "      <td>NaN</td>\n",
       "      <td>NaN</td>\n",
       "      <td>I love fruits</td>\n",
       "      <td>0</td>\n",
       "    </tr>\n",
       "    <tr>\n",
       "      <th>17</th>\n",
       "      <td>25</td>\n",
       "      <td>NaN</td>\n",
       "      <td>NaN</td>\n",
       "      <td>Summer is lovely</td>\n",
       "      <td>0</td>\n",
       "    </tr>\n",
       "    <tr>\n",
       "      <th>18</th>\n",
       "      <td>26</td>\n",
       "      <td>NaN</td>\n",
       "      <td>NaN</td>\n",
       "      <td>My car is so fast</td>\n",
       "      <td>0</td>\n",
       "    </tr>\n",
       "    <tr>\n",
       "      <th>19</th>\n",
       "      <td>28</td>\n",
       "      <td>NaN</td>\n",
       "      <td>NaN</td>\n",
       "      <td>What a goooooooaaaaaal!!!!!!</td>\n",
       "      <td>0</td>\n",
       "    </tr>\n",
       "  </tbody>\n",
       "</table>\n",
       "</div>"
      ],
      "text/plain": [
       "    id keyword location                                               text  \\\n",
       "0    1     NaN      NaN  Our Deeds are the Reason of this #earthquake M...   \n",
       "1    4     NaN      NaN             Forest fire near La Ronge Sask. Canada   \n",
       "2    5     NaN      NaN  All residents asked to 'shelter in place' are ...   \n",
       "3    6     NaN      NaN  13,000 people receive #wildfires evacuation or...   \n",
       "4    7     NaN      NaN  Just got sent this photo from Ruby #Alaska as ...   \n",
       "5    8     NaN      NaN  #RockyFire Update => California Hwy. 20 closed...   \n",
       "6   10     NaN      NaN  #flood #disaster Heavy rain causes flash flood...   \n",
       "7   13     NaN      NaN  I'm on top of the hill and I can see a fire in...   \n",
       "8   14     NaN      NaN  There's an emergency evacuation happening now ...   \n",
       "9   15     NaN      NaN  I'm afraid that the tornado is coming to our a...   \n",
       "10  16     NaN      NaN        Three people died from the heat wave so far   \n",
       "11  17     NaN      NaN  Haha South Tampa is getting flooded hah- WAIT ...   \n",
       "12  18     NaN      NaN  #raining #flooding #Florida #TampaBay #Tampa 1...   \n",
       "13  19     NaN      NaN            #Flood in Bago Myanmar #We arrived Bago   \n",
       "14  20     NaN      NaN  Damage to school bus on 80 in multi car crash ...   \n",
       "15  23     NaN      NaN                                     What's up man?   \n",
       "16  24     NaN      NaN                                      I love fruits   \n",
       "17  25     NaN      NaN                                   Summer is lovely   \n",
       "18  26     NaN      NaN                                  My car is so fast   \n",
       "19  28     NaN      NaN                       What a goooooooaaaaaal!!!!!!   \n",
       "\n",
       "    target  \n",
       "0        1  \n",
       "1        1  \n",
       "2        1  \n",
       "3        1  \n",
       "4        1  \n",
       "5        1  \n",
       "6        1  \n",
       "7        1  \n",
       "8        1  \n",
       "9        1  \n",
       "10       1  \n",
       "11       1  \n",
       "12       1  \n",
       "13       1  \n",
       "14       1  \n",
       "15       0  \n",
       "16       0  \n",
       "17       0  \n",
       "18       0  \n",
       "19       0  "
      ]
     },
     "execution_count": 4,
     "metadata": {},
     "output_type": "execute_result"
    }
   ],
   "source": [
    "df.head(20)"
   ]
  },
  {
   "cell_type": "code",
   "execution_count": 5,
   "id": "7cb9cfc0",
   "metadata": {
    "execution": {
     "iopub.execute_input": "2022-04-28T03:43:21.540592Z",
     "iopub.status.busy": "2022-04-28T03:43:21.540074Z",
     "iopub.status.idle": "2022-04-28T03:43:21.563678Z",
     "shell.execute_reply": "2022-04-28T03:43:21.562766Z"
    },
    "papermill": {
     "duration": 0.058098,
     "end_time": "2022-04-28T03:43:21.565730",
     "exception": false,
     "start_time": "2022-04-28T03:43:21.507632",
     "status": "completed"
    },
    "tags": []
   },
   "outputs": [],
   "source": [
    "df1 = pd.read_csv(\"/kaggle/input/nlp-getting-started/test.csv\")"
   ]
  },
  {
   "cell_type": "code",
   "execution_count": 6,
   "id": "c9dd094d",
   "metadata": {
    "execution": {
     "iopub.execute_input": "2022-04-28T03:43:21.630808Z",
     "iopub.status.busy": "2022-04-28T03:43:21.630299Z",
     "iopub.status.idle": "2022-04-28T03:43:21.644536Z",
     "shell.execute_reply": "2022-04-28T03:43:21.643874Z"
    },
    "papermill": {
     "duration": 0.048607,
     "end_time": "2022-04-28T03:43:21.646525",
     "exception": false,
     "start_time": "2022-04-28T03:43:21.597918",
     "status": "completed"
    },
    "tags": []
   },
   "outputs": [],
   "source": [
    "df[\"text\"] = df[\"text\"].apply(lambda x: x.lower())\n",
    "df1[\"text\"] = df1[\"text\"].apply(lambda x: x.lower())"
   ]
  },
  {
   "cell_type": "code",
   "execution_count": 7,
   "id": "0e0a6861",
   "metadata": {
    "execution": {
     "iopub.execute_input": "2022-04-28T03:43:21.712320Z",
     "iopub.status.busy": "2022-04-28T03:43:21.711840Z",
     "iopub.status.idle": "2022-04-28T03:43:21.715037Z",
     "shell.execute_reply": "2022-04-28T03:43:21.714510Z"
    },
    "papermill": {
     "duration": 0.037114,
     "end_time": "2022-04-28T03:43:21.716742",
     "exception": false,
     "start_time": "2022-04-28T03:43:21.679628",
     "status": "completed"
    },
    "tags": []
   },
   "outputs": [],
   "source": [
    "import re"
   ]
  },
  {
   "cell_type": "code",
   "execution_count": 8,
   "id": "e12b9ca4",
   "metadata": {
    "execution": {
     "iopub.execute_input": "2022-04-28T03:43:21.781161Z",
     "iopub.status.busy": "2022-04-28T03:43:21.780665Z",
     "iopub.status.idle": "2022-04-28T03:43:21.837205Z",
     "shell.execute_reply": "2022-04-28T03:43:21.836264Z"
    },
    "papermill": {
     "duration": 0.09143,
     "end_time": "2022-04-28T03:43:21.839471",
     "exception": false,
     "start_time": "2022-04-28T03:43:21.748041",
     "status": "completed"
    },
    "tags": []
   },
   "outputs": [],
   "source": [
    "def remove_URL(text):\n",
    "    return re.sub(r\"https?://\\S+|www\\.\\S+\", \"\", text)\n",
    "\n",
    "df[\"text\"] = df[\"text\"].apply(lambda x: remove_URL(x))\n",
    "df1[\"text\"] = df1[\"text\"].apply(lambda x: remove_URL(x))"
   ]
  },
  {
   "cell_type": "code",
   "execution_count": 9,
   "id": "ade2923a",
   "metadata": {
    "execution": {
     "iopub.execute_input": "2022-04-28T03:43:21.903806Z",
     "iopub.status.busy": "2022-04-28T03:43:21.903301Z",
     "iopub.status.idle": "2022-04-28T03:43:21.968005Z",
     "shell.execute_reply": "2022-04-28T03:43:21.967322Z"
    },
    "papermill": {
     "duration": 0.099644,
     "end_time": "2022-04-28T03:43:21.970379",
     "exception": false,
     "start_time": "2022-04-28T03:43:21.870735",
     "status": "completed"
    },
    "tags": []
   },
   "outputs": [],
   "source": [
    "def remove_html(text):\n",
    "    html = re.compile(r\"<.*?>|&([a-z0-9]+|#[0-9]{1,6}|#x[0-9a-f]{1,6});\")\n",
    "    return re.sub(html, \"\", text)\n",
    "\n",
    "df[\"text\"] = df[\"text\"].apply(lambda x: remove_html(x))\n",
    "df1[\"text\"] = df1[\"text\"].apply(lambda x: remove_html(x))"
   ]
  },
  {
   "cell_type": "code",
   "execution_count": 10,
   "id": "115a5312",
   "metadata": {
    "execution": {
     "iopub.execute_input": "2022-04-28T03:43:22.035171Z",
     "iopub.status.busy": "2022-04-28T03:43:22.034880Z",
     "iopub.status.idle": "2022-04-28T03:43:22.038722Z",
     "shell.execute_reply": "2022-04-28T03:43:22.037914Z"
    },
    "papermill": {
     "duration": 0.038602,
     "end_time": "2022-04-28T03:43:22.040531",
     "exception": false,
     "start_time": "2022-04-28T03:43:22.001929",
     "status": "completed"
    },
    "tags": []
   },
   "outputs": [],
   "source": [
    "import string"
   ]
  },
  {
   "cell_type": "code",
   "execution_count": 11,
   "id": "3a4deaee",
   "metadata": {
    "execution": {
     "iopub.execute_input": "2022-04-28T03:43:22.104206Z",
     "iopub.status.busy": "2022-04-28T03:43:22.103942Z",
     "iopub.status.idle": "2022-04-28T03:43:22.171009Z",
     "shell.execute_reply": "2022-04-28T03:43:22.170294Z"
    },
    "papermill": {
     "duration": 0.10176,
     "end_time": "2022-04-28T03:43:22.173424",
     "exception": false,
     "start_time": "2022-04-28T03:43:22.071664",
     "status": "completed"
    },
    "tags": []
   },
   "outputs": [],
   "source": [
    "def remove_punct(text):\n",
    "    return text.translate(str.maketrans('', '', string.punctuation))\n",
    "\n",
    "\n",
    "df[\"text\"] = df[\"text\"].apply(lambda x: remove_punct(x))\n",
    "df1[\"text\"] = df1[\"text\"].apply(lambda x: remove_punct(x))"
   ]
  },
  {
   "cell_type": "code",
   "execution_count": 12,
   "id": "f76811db",
   "metadata": {
    "execution": {
     "iopub.execute_input": "2022-04-28T03:43:22.237750Z",
     "iopub.status.busy": "2022-04-28T03:43:22.237496Z",
     "iopub.status.idle": "2022-04-28T03:43:22.249763Z",
     "shell.execute_reply": "2022-04-28T03:43:22.248861Z"
    },
    "papermill": {
     "duration": 0.047008,
     "end_time": "2022-04-28T03:43:22.251743",
     "exception": false,
     "start_time": "2022-04-28T03:43:22.204735",
     "status": "completed"
    },
    "tags": []
   },
   "outputs": [],
   "source": [
    "df = df.drop('keyword', axis=1)\n",
    "df1 = df1.drop('keyword', axis=1)"
   ]
  },
  {
   "cell_type": "code",
   "execution_count": 13,
   "id": "55c10936",
   "metadata": {
    "execution": {
     "iopub.execute_input": "2022-04-28T03:43:22.316840Z",
     "iopub.status.busy": "2022-04-28T03:43:22.316066Z",
     "iopub.status.idle": "2022-04-28T03:43:22.323023Z",
     "shell.execute_reply": "2022-04-28T03:43:22.322279Z"
    },
    "papermill": {
     "duration": 0.04163,
     "end_time": "2022-04-28T03:43:22.325130",
     "exception": false,
     "start_time": "2022-04-28T03:43:22.283500",
     "status": "completed"
    },
    "tags": []
   },
   "outputs": [],
   "source": [
    "df = df.drop('location', axis=1)\n",
    "df1 = df1.drop('location', axis=1)"
   ]
  },
  {
   "cell_type": "code",
   "execution_count": 14,
   "id": "5c8e63bb",
   "metadata": {
    "execution": {
     "iopub.execute_input": "2022-04-28T03:43:22.390636Z",
     "iopub.status.busy": "2022-04-28T03:43:22.389860Z",
     "iopub.status.idle": "2022-04-28T03:43:25.089592Z",
     "shell.execute_reply": "2022-04-28T03:43:25.088752Z"
    },
    "papermill": {
     "duration": 2.734555,
     "end_time": "2022-04-28T03:43:25.091869",
     "exception": false,
     "start_time": "2022-04-28T03:43:22.357314",
     "status": "completed"
    },
    "tags": []
   },
   "outputs": [],
   "source": [
    "import nltk\n",
    "from nltk import TweetTokenizer\n",
    "\n",
    "tokenizer = TweetTokenizer()\n",
    "\n",
    "df['tokens'] = [tokenizer.tokenize(item) for item in df.text]\n",
    "df1['tokens'] = [tokenizer.tokenize(item) for item in df1.text]"
   ]
  },
  {
   "cell_type": "code",
   "execution_count": 15,
   "id": "ddb97244",
   "metadata": {
    "execution": {
     "iopub.execute_input": "2022-04-28T03:43:25.158100Z",
     "iopub.status.busy": "2022-04-28T03:43:25.157295Z",
     "iopub.status.idle": "2022-04-28T03:43:28.119274Z",
     "shell.execute_reply": "2022-04-28T03:43:28.118380Z"
    },
    "papermill": {
     "duration": 2.997029,
     "end_time": "2022-04-28T03:43:28.121637",
     "exception": false,
     "start_time": "2022-04-28T03:43:25.124608",
     "status": "completed"
    },
    "tags": []
   },
   "outputs": [],
   "source": [
    "from nltk.stem import WordNetLemmatizer\n",
    "\n",
    "lemmatizer = WordNetLemmatizer()\n",
    "\n",
    "def lemmatize_item(item):\n",
    "    new_item = []\n",
    "    for x in item:\n",
    "        x = lemmatizer.lemmatize(x)\n",
    "        new_item.append(x)\n",
    "    return \" \".join(new_item)\n",
    "\n",
    "df['tokens'] = [lemmatize_item(item) for item in df.tokens]\n",
    "df1['tokens'] = [lemmatize_item(item) for item in df1.tokens]"
   ]
  },
  {
   "cell_type": "code",
   "execution_count": 16,
   "id": "86c5847c",
   "metadata": {
    "execution": {
     "iopub.execute_input": "2022-04-28T03:43:28.186117Z",
     "iopub.status.busy": "2022-04-28T03:43:28.185813Z",
     "iopub.status.idle": "2022-04-28T03:43:28.594486Z",
     "shell.execute_reply": "2022-04-28T03:43:28.593279Z"
    },
    "papermill": {
     "duration": 0.443462,
     "end_time": "2022-04-28T03:43:28.597096",
     "exception": false,
     "start_time": "2022-04-28T03:43:28.153634",
     "status": "completed"
    },
    "tags": []
   },
   "outputs": [],
   "source": [
    "from sklearn.feature_extraction.text import CountVectorizer\n",
    "\n",
    "vectorizer = CountVectorizer()\n",
    "\n",
    "\n",
    "X = vectorizer.fit_transform(df.text).toarray()\n",
    "y = df['target']"
   ]
  },
  {
   "cell_type": "code",
   "execution_count": 17,
   "id": "a93d674a",
   "metadata": {
    "execution": {
     "iopub.execute_input": "2022-04-28T03:43:28.663496Z",
     "iopub.status.busy": "2022-04-28T03:43:28.663012Z",
     "iopub.status.idle": "2022-04-28T03:43:29.357368Z",
     "shell.execute_reply": "2022-04-28T03:43:29.356616Z"
    },
    "papermill": {
     "duration": 0.729842,
     "end_time": "2022-04-28T03:43:29.359661",
     "exception": false,
     "start_time": "2022-04-28T03:43:28.629819",
     "status": "completed"
    },
    "tags": []
   },
   "outputs": [],
   "source": [
    "from sklearn.model_selection import train_test_split\n",
    "X_train, X_test, y_train, y_test = train_test_split(X, y, test_size = 0.3, random_state = 0)"
   ]
  },
  {
   "cell_type": "code",
   "execution_count": 18,
   "id": "d13d704e",
   "metadata": {
    "execution": {
     "iopub.execute_input": "2022-04-28T03:43:29.423659Z",
     "iopub.status.busy": "2022-04-28T03:43:29.423382Z",
     "iopub.status.idle": "2022-04-28T03:43:29.429857Z",
     "shell.execute_reply": "2022-04-28T03:43:29.429035Z"
    },
    "papermill": {
     "duration": 0.040635,
     "end_time": "2022-04-28T03:43:29.431768",
     "exception": false,
     "start_time": "2022-04-28T03:43:29.391133",
     "status": "completed"
    },
    "tags": []
   },
   "outputs": [],
   "source": [
    "from sklearn.naive_bayes import MultinomialNB"
   ]
  },
  {
   "cell_type": "code",
   "execution_count": 19,
   "id": "a120f9a6",
   "metadata": {
    "execution": {
     "iopub.execute_input": "2022-04-28T03:43:29.495297Z",
     "iopub.status.busy": "2022-04-28T03:43:29.495042Z",
     "iopub.status.idle": "2022-04-28T03:43:30.596261Z",
     "shell.execute_reply": "2022-04-28T03:43:30.595413Z"
    },
    "papermill": {
     "duration": 1.135631,
     "end_time": "2022-04-28T03:43:30.598381",
     "exception": false,
     "start_time": "2022-04-28T03:43:29.462750",
     "status": "completed"
    },
    "tags": []
   },
   "outputs": [
    {
     "data": {
      "text/plain": [
       "MultinomialNB()"
      ]
     },
     "execution_count": 19,
     "metadata": {},
     "output_type": "execute_result"
    }
   ],
   "source": [
    "mb = MultinomialNB()\n",
    "mb.fit(X_train,y_train)"
   ]
  },
  {
   "cell_type": "code",
   "execution_count": 20,
   "id": "33bb8c1e",
   "metadata": {
    "execution": {
     "iopub.execute_input": "2022-04-28T03:43:30.662550Z",
     "iopub.status.busy": "2022-04-28T03:43:30.662232Z",
     "iopub.status.idle": "2022-04-28T03:43:30.898354Z",
     "shell.execute_reply": "2022-04-28T03:43:30.896964Z"
    },
    "papermill": {
     "duration": 0.272682,
     "end_time": "2022-04-28T03:43:30.902434",
     "exception": false,
     "start_time": "2022-04-28T03:43:30.629752",
     "status": "completed"
    },
    "tags": []
   },
   "outputs": [],
   "source": [
    "y_pred = mb.predict(X_test)"
   ]
  },
  {
   "cell_type": "code",
   "execution_count": 21,
   "id": "a2303d81",
   "metadata": {
    "execution": {
     "iopub.execute_input": "2022-04-28T03:43:31.000531Z",
     "iopub.status.busy": "2022-04-28T03:43:31.000249Z",
     "iopub.status.idle": "2022-04-28T03:43:31.004609Z",
     "shell.execute_reply": "2022-04-28T03:43:31.003693Z"
    },
    "papermill": {
     "duration": 0.045434,
     "end_time": "2022-04-28T03:43:31.006525",
     "exception": false,
     "start_time": "2022-04-28T03:43:30.961091",
     "status": "completed"
    },
    "tags": []
   },
   "outputs": [],
   "source": [
    "from sklearn.metrics import accuracy_score, classification_report, confusion_matrix"
   ]
  },
  {
   "cell_type": "code",
   "execution_count": 22,
   "id": "994f531c",
   "metadata": {
    "execution": {
     "iopub.execute_input": "2022-04-28T03:43:31.071058Z",
     "iopub.status.busy": "2022-04-28T03:43:31.070579Z",
     "iopub.status.idle": "2022-04-28T03:43:31.075773Z",
     "shell.execute_reply": "2022-04-28T03:43:31.074824Z"
    },
    "papermill": {
     "duration": 0.039688,
     "end_time": "2022-04-28T03:43:31.077765",
     "exception": false,
     "start_time": "2022-04-28T03:43:31.038077",
     "status": "completed"
    },
    "tags": []
   },
   "outputs": [
    {
     "name": "stdout",
     "output_type": "stream",
     "text": [
      "The accuracy of the model is : 0.8025394045534151\n"
     ]
    }
   ],
   "source": [
    "acc = accuracy_score(y_test,y_pred)\n",
    "print(\"The accuracy of the model is :\",acc)"
   ]
  },
  {
   "cell_type": "code",
   "execution_count": 23,
   "id": "e3a25822",
   "metadata": {
    "execution": {
     "iopub.execute_input": "2022-04-28T03:43:31.143847Z",
     "iopub.status.busy": "2022-04-28T03:43:31.142961Z",
     "iopub.status.idle": "2022-04-28T03:43:31.151875Z",
     "shell.execute_reply": "2022-04-28T03:43:31.151090Z"
    },
    "papermill": {
     "duration": 0.044089,
     "end_time": "2022-04-28T03:43:31.153637",
     "exception": false,
     "start_time": "2022-04-28T03:43:31.109548",
     "status": "completed"
    },
    "tags": []
   },
   "outputs": [
    {
     "data": {
      "text/plain": [
       "array([[1157,  181],\n",
       "       [ 270,  676]])"
      ]
     },
     "execution_count": 23,
     "metadata": {},
     "output_type": "execute_result"
    }
   ],
   "source": [
    "cf = confusion_matrix(y_test,y_pred)\n",
    "cf"
   ]
  },
  {
   "cell_type": "code",
   "execution_count": 24,
   "id": "93626142",
   "metadata": {
    "execution": {
     "iopub.execute_input": "2022-04-28T03:43:31.221079Z",
     "iopub.status.busy": "2022-04-28T03:43:31.220507Z",
     "iopub.status.idle": "2022-04-28T03:43:31.234582Z",
     "shell.execute_reply": "2022-04-28T03:43:31.233374Z"
    },
    "papermill": {
     "duration": 0.050592,
     "end_time": "2022-04-28T03:43:31.236660",
     "exception": false,
     "start_time": "2022-04-28T03:43:31.186068",
     "status": "completed"
    },
    "tags": []
   },
   "outputs": [
    {
     "name": "stdout",
     "output_type": "stream",
     "text": [
      "              precision    recall  f1-score   support\n",
      "\n",
      "           0       0.81      0.86      0.84      1338\n",
      "           1       0.79      0.71      0.75       946\n",
      "\n",
      "    accuracy                           0.80      2284\n",
      "   macro avg       0.80      0.79      0.79      2284\n",
      "weighted avg       0.80      0.80      0.80      2284\n",
      "\n"
     ]
    }
   ],
   "source": [
    "print(classification_report(y_test,y_pred))"
   ]
  },
  {
   "cell_type": "code",
   "execution_count": 25,
   "id": "75c4a93f",
   "metadata": {
    "execution": {
     "iopub.execute_input": "2022-04-28T03:43:31.307104Z",
     "iopub.status.busy": "2022-04-28T03:43:31.306688Z",
     "iopub.status.idle": "2022-04-28T03:43:31.443295Z",
     "shell.execute_reply": "2022-04-28T03:43:31.442355Z"
    },
    "papermill": {
     "duration": 0.173884,
     "end_time": "2022-04-28T03:43:31.445549",
     "exception": false,
     "start_time": "2022-04-28T03:43:31.271665",
     "status": "completed"
    },
    "tags": []
   },
   "outputs": [],
   "source": [
    "test = vectorizer.transform(df1.text).toarray()"
   ]
  },
  {
   "cell_type": "code",
   "execution_count": 26,
   "id": "35367d44",
   "metadata": {
    "execution": {
     "iopub.execute_input": "2022-04-28T03:43:31.512620Z",
     "iopub.status.busy": "2022-04-28T03:43:31.511905Z",
     "iopub.status.idle": "2022-04-28T03:43:31.853579Z",
     "shell.execute_reply": "2022-04-28T03:43:31.851767Z"
    },
    "papermill": {
     "duration": 0.381072,
     "end_time": "2022-04-28T03:43:31.859258",
     "exception": false,
     "start_time": "2022-04-28T03:43:31.478186",
     "status": "completed"
    },
    "tags": []
   },
   "outputs": [],
   "source": [
    "pred_1 = mb.predict(test)"
   ]
  },
  {
   "cell_type": "code",
   "execution_count": 27,
   "id": "9f4cd227",
   "metadata": {
    "execution": {
     "iopub.execute_input": "2022-04-28T03:43:32.006441Z",
     "iopub.status.busy": "2022-04-28T03:43:32.006139Z",
     "iopub.status.idle": "2022-04-28T03:43:32.018029Z",
     "shell.execute_reply": "2022-04-28T03:43:32.017405Z"
    },
    "papermill": {
     "duration": 0.060208,
     "end_time": "2022-04-28T03:43:32.020403",
     "exception": false,
     "start_time": "2022-04-28T03:43:31.960195",
     "status": "completed"
    },
    "tags": []
   },
   "outputs": [],
   "source": [
    "sub = pd.read_csv(\"/kaggle/input/nlp-getting-started/sample_submission.csv\")"
   ]
  },
  {
   "cell_type": "code",
   "execution_count": 28,
   "id": "5351146a",
   "metadata": {
    "execution": {
     "iopub.execute_input": "2022-04-28T03:43:32.089788Z",
     "iopub.status.busy": "2022-04-28T03:43:32.088926Z",
     "iopub.status.idle": "2022-04-28T03:43:32.098463Z",
     "shell.execute_reply": "2022-04-28T03:43:32.097416Z"
    },
    "papermill": {
     "duration": 0.046402,
     "end_time": "2022-04-28T03:43:32.100922",
     "exception": false,
     "start_time": "2022-04-28T03:43:32.054520",
     "status": "completed"
    },
    "tags": []
   },
   "outputs": [
    {
     "data": {
      "text/html": [
       "<div>\n",
       "<style scoped>\n",
       "    .dataframe tbody tr th:only-of-type {\n",
       "        vertical-align: middle;\n",
       "    }\n",
       "\n",
       "    .dataframe tbody tr th {\n",
       "        vertical-align: top;\n",
       "    }\n",
       "\n",
       "    .dataframe thead th {\n",
       "        text-align: right;\n",
       "    }\n",
       "</style>\n",
       "<table border=\"1\" class=\"dataframe\">\n",
       "  <thead>\n",
       "    <tr style=\"text-align: right;\">\n",
       "      <th></th>\n",
       "      <th>id</th>\n",
       "      <th>target</th>\n",
       "    </tr>\n",
       "  </thead>\n",
       "  <tbody>\n",
       "    <tr>\n",
       "      <th>0</th>\n",
       "      <td>0</td>\n",
       "      <td>0</td>\n",
       "    </tr>\n",
       "    <tr>\n",
       "      <th>1</th>\n",
       "      <td>2</td>\n",
       "      <td>0</td>\n",
       "    </tr>\n",
       "    <tr>\n",
       "      <th>2</th>\n",
       "      <td>3</td>\n",
       "      <td>0</td>\n",
       "    </tr>\n",
       "    <tr>\n",
       "      <th>3</th>\n",
       "      <td>9</td>\n",
       "      <td>0</td>\n",
       "    </tr>\n",
       "    <tr>\n",
       "      <th>4</th>\n",
       "      <td>11</td>\n",
       "      <td>0</td>\n",
       "    </tr>\n",
       "  </tbody>\n",
       "</table>\n",
       "</div>"
      ],
      "text/plain": [
       "   id  target\n",
       "0   0       0\n",
       "1   2       0\n",
       "2   3       0\n",
       "3   9       0\n",
       "4  11       0"
      ]
     },
     "execution_count": 28,
     "metadata": {},
     "output_type": "execute_result"
    }
   ],
   "source": [
    "sub.head()"
   ]
  },
  {
   "cell_type": "code",
   "execution_count": 29,
   "id": "ef564b03",
   "metadata": {
    "execution": {
     "iopub.execute_input": "2022-04-28T03:43:32.174980Z",
     "iopub.status.busy": "2022-04-28T03:43:32.174696Z",
     "iopub.status.idle": "2022-04-28T03:43:32.187783Z",
     "shell.execute_reply": "2022-04-28T03:43:32.186964Z"
    },
    "papermill": {
     "duration": 0.052527,
     "end_time": "2022-04-28T03:43:32.189854",
     "exception": false,
     "start_time": "2022-04-28T03:43:32.137327",
     "status": "completed"
    },
    "tags": []
   },
   "outputs": [],
   "source": [
    "sub['target'] = pred_1\n",
    "sub.to_csv('submission.csv',index=False)"
   ]
  },
  {
   "cell_type": "code",
   "execution_count": 30,
   "id": "3edbfa38",
   "metadata": {
    "execution": {
     "iopub.execute_input": "2022-04-28T03:43:32.263164Z",
     "iopub.status.busy": "2022-04-28T03:43:32.262319Z",
     "iopub.status.idle": "2022-04-28T03:43:32.276286Z",
     "shell.execute_reply": "2022-04-28T03:43:32.275420Z"
    },
    "papermill": {
     "duration": 0.053231,
     "end_time": "2022-04-28T03:43:32.278252",
     "exception": false,
     "start_time": "2022-04-28T03:43:32.225021",
     "status": "completed"
    },
    "tags": []
   },
   "outputs": [
    {
     "data": {
      "text/html": [
       "<div>\n",
       "<style scoped>\n",
       "    .dataframe tbody tr th:only-of-type {\n",
       "        vertical-align: middle;\n",
       "    }\n",
       "\n",
       "    .dataframe tbody tr th {\n",
       "        vertical-align: top;\n",
       "    }\n",
       "\n",
       "    .dataframe thead th {\n",
       "        text-align: right;\n",
       "    }\n",
       "</style>\n",
       "<table border=\"1\" class=\"dataframe\">\n",
       "  <thead>\n",
       "    <tr style=\"text-align: right;\">\n",
       "      <th></th>\n",
       "      <th>id</th>\n",
       "      <th>target</th>\n",
       "    </tr>\n",
       "  </thead>\n",
       "  <tbody>\n",
       "    <tr>\n",
       "      <th>0</th>\n",
       "      <td>0</td>\n",
       "      <td>1</td>\n",
       "    </tr>\n",
       "    <tr>\n",
       "      <th>1</th>\n",
       "      <td>2</td>\n",
       "      <td>0</td>\n",
       "    </tr>\n",
       "    <tr>\n",
       "      <th>2</th>\n",
       "      <td>3</td>\n",
       "      <td>1</td>\n",
       "    </tr>\n",
       "    <tr>\n",
       "      <th>3</th>\n",
       "      <td>9</td>\n",
       "      <td>1</td>\n",
       "    </tr>\n",
       "    <tr>\n",
       "      <th>4</th>\n",
       "      <td>11</td>\n",
       "      <td>1</td>\n",
       "    </tr>\n",
       "    <tr>\n",
       "      <th>...</th>\n",
       "      <td>...</td>\n",
       "      <td>...</td>\n",
       "    </tr>\n",
       "    <tr>\n",
       "      <th>3258</th>\n",
       "      <td>10861</td>\n",
       "      <td>1</td>\n",
       "    </tr>\n",
       "    <tr>\n",
       "      <th>3259</th>\n",
       "      <td>10865</td>\n",
       "      <td>1</td>\n",
       "    </tr>\n",
       "    <tr>\n",
       "      <th>3260</th>\n",
       "      <td>10868</td>\n",
       "      <td>1</td>\n",
       "    </tr>\n",
       "    <tr>\n",
       "      <th>3261</th>\n",
       "      <td>10874</td>\n",
       "      <td>1</td>\n",
       "    </tr>\n",
       "    <tr>\n",
       "      <th>3262</th>\n",
       "      <td>10875</td>\n",
       "      <td>1</td>\n",
       "    </tr>\n",
       "  </tbody>\n",
       "</table>\n",
       "<p>3263 rows × 2 columns</p>\n",
       "</div>"
      ],
      "text/plain": [
       "         id  target\n",
       "0         0       1\n",
       "1         2       0\n",
       "2         3       1\n",
       "3         9       1\n",
       "4        11       1\n",
       "...     ...     ...\n",
       "3258  10861       1\n",
       "3259  10865       1\n",
       "3260  10868       1\n",
       "3261  10874       1\n",
       "3262  10875       1\n",
       "\n",
       "[3263 rows x 2 columns]"
      ]
     },
     "execution_count": 30,
     "metadata": {},
     "output_type": "execute_result"
    }
   ],
   "source": [
    "r =pd.read_csv(\"submission.csv\")\n",
    "r"
   ]
  }
 ],
 "metadata": {
  "kernelspec": {
   "display_name": "Python 3",
   "language": "python",
   "name": "python3"
  },
  "language_info": {
   "codemirror_mode": {
    "name": "ipython",
    "version": 3
   },
   "file_extension": ".py",
   "mimetype": "text/x-python",
   "name": "python",
   "nbconvert_exporter": "python",
   "pygments_lexer": "ipython3",
   "version": "3.7.12"
  },
  "papermill": {
   "default_parameters": {},
   "duration": 21.789083,
   "end_time": "2022-04-28T03:43:33.349960",
   "environment_variables": {},
   "exception": null,
   "input_path": "__notebook__.ipynb",
   "output_path": "__notebook__.ipynb",
   "parameters": {},
   "start_time": "2022-04-28T03:43:11.560877",
   "version": "2.3.4"
  }
 },
 "nbformat": 4,
 "nbformat_minor": 5
}
